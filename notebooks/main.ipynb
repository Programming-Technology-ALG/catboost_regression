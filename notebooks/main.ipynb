{
 "cells": [
  {
   "cell_type": "code",
   "execution_count": 19,
   "metadata": {},
   "outputs": [],
   "source": [
    "# Work with paths\n",
    "import os\n",
    "import sys\n",
    "sys.path.append('..')\n",
    "\n",
    "# import implemented modules\n",
    "from src.models import tree\n",
    "import src.config as cfg\n",
    "# from src.data import make_dataset\n",
    "# import src.utils as utils\n",
    "# from src.visualization import visualize\n",
    "# from src.features import features\n",
    "\n",
    "# import other modules\n",
    "import pandas as pd\n",
    "import numpy as np\n",
    "import seaborn as sns\n",
    "import sklearn\n",
    "from sklearn.model_selection import train_test_split\n",
    "from sklearn.metrics import accuracy_score, recall_score, roc_auc_score\n",
    "from catboost import CatBoostRegressor, metrics, Pool\n",
    "import matplotlib.pyplot as plt\n",
    "\n",
    "from sklearn.pipeline import Pipeline\n",
    "from sklearn.impute import SimpleImputer\n",
    "from sklearn.preprocessing import StandardScaler, OneHotEncoder\n",
    "from sklearn.compose import ColumnTransformer\n",
    "\n"
   ]
  },
  {
   "cell_type": "markdown",
   "metadata": {},
   "source": [
    "# Generate Dataset"
   ]
  },
  {
   "cell_type": "code",
   "execution_count": 20,
   "metadata": {},
   "outputs": [
    {
     "name": "stdout",
     "output_type": "stream",
     "text": [
      "2022-10-22 20:19:33,530 - __main__ - INFO - making final data set from raw data\n",
      "2022-10-22 20:19:33,659 - __main__ - INFO - Dataset saved to ../data/processed/train_data.pkl\n"
     ]
    }
   ],
   "source": [
    "! python3 ../src/data/make_dataset.py                           \\\n",
    "    --input_filepath=../data/raw/train.csv                      \\\n",
    "    --output_data_filepath=../data/processed/train_data.pkl     \\\n",
    "    --output_encoder_filepath=../data/processed/transformer.pkl"
   ]
  },
  {
   "cell_type": "code",
   "execution_count": 21,
   "metadata": {},
   "outputs": [
    {
     "name": "stdout",
     "output_type": "stream",
     "text": [
      "2022-10-22 20:19:36,387 - __main__ - INFO - making final data set from raw data\n",
      "2022-10-22 20:19:36,493 - __main__ - INFO - Dataset saved to ../data/processed/val_data.pkl\n"
     ]
    }
   ],
   "source": [
    "! python3 ../src/data/make_dataset.py                           \\\n",
    "    --input_filepath=../data/raw/test.csv                       \\\n",
    "    --output_data_filepath=../data/processed/val_data.pkl       \\\n",
    "    --is_val=True                                               \\\n",
    "    --output_encoder_filepath=../data/processed/transformer.pkl"
   ]
  },
  {
   "cell_type": "markdown",
   "metadata": {},
   "source": [
    "None"
   ]
  },
  {
   "cell_type": "markdown",
   "metadata": {},
   "source": [
    "Load dataset"
   ]
  },
  {
   "cell_type": "code",
   "execution_count": 22,
   "metadata": {},
   "outputs": [],
   "source": [
    "train_data  = pd.read_pickle(str(os.getcwd() + \"/../data/processed/train_data.pkl\"))\n",
    "\n",
    "val_data   = pd.read_pickle(str(os.getcwd() + \"/../data/processed/val_data.pkl\"))"
   ]
  },
  {
   "cell_type": "markdown",
   "metadata": {},
   "source": [
    "Visualize data"
   ]
  },
  {
   "cell_type": "markdown",
   "metadata": {},
   "source": [
    "If we want to predict illness, we are interested not in getting FalseNegative that is why main function is Recall\n",
    "\n",
    "$$\\text{Recall}=\\frac{TP}{TP+FN}$$"
   ]
  },
  {
   "cell_type": "markdown",
   "metadata": {},
   "source": [
    "Generate tran and test selections"
   ]
  },
  {
   "cell_type": "code",
   "execution_count": 35,
   "metadata": {},
   "outputs": [],
   "source": [
    "X_train, X_test, Y_train, Y_test = train_test_split(\n",
    "                                                    train_data[:,:-1],\n",
    "                                                    train_data[:,-1],\n",
    "                                                    train_size=0.8,\n",
    "                                                    random_state=cfg.RANDOM_STATE,\n",
    "                                                    )"
   ]
  },
  {
   "cell_type": "markdown",
   "metadata": {},
   "source": [
    "Catboost"
   ]
  },
  {
   "cell_type": "code",
   "execution_count": 9,
   "metadata": {},
   "outputs": [
    {
     "data": {
      "application/vnd.jupyter.widget-view+json": {
       "model_id": "5703887f1407414289fc68e9c53b521f",
       "version_major": 2,
       "version_minor": 0
      },
      "text/plain": [
       "MetricVisualizer(layout=Layout(align_self='stretch', height='500px'))"
      ]
     },
     "metadata": {},
     "output_type": "display_data"
    },
    {
     "name": "stdout",
     "output_type": "stream",
     "text": [
      "0:\tlearn: 0.6871650\ttest: 0.6873138\tbest: 0.6873138 (0)\ttotal: 63.6ms\tremaining: 1m 3s\n",
      "10:\tlearn: 0.6328486\ttest: 0.6347692\tbest: 0.6347692 (10)\ttotal: 104ms\tremaining: 9.32s\n",
      "20:\tlearn: 0.5874997\ttest: 0.5906362\tbest: 0.5906362 (20)\ttotal: 144ms\tremaining: 6.71s\n",
      "30:\tlearn: 0.5483113\ttest: 0.5528230\tbest: 0.5528230 (30)\ttotal: 184ms\tremaining: 5.75s\n",
      "40:\tlearn: 0.5160768\ttest: 0.5218888\tbest: 0.5218888 (40)\ttotal: 224ms\tremaining: 5.24s\n",
      "50:\tlearn: 0.4889029\ttest: 0.4958552\tbest: 0.4958552 (50)\ttotal: 267ms\tremaining: 4.96s\n",
      "60:\tlearn: 0.4658248\ttest: 0.4738023\tbest: 0.4738023 (60)\ttotal: 309ms\tremaining: 4.76s\n",
      "70:\tlearn: 0.4459481\ttest: 0.4550275\tbest: 0.4550275 (70)\ttotal: 354ms\tremaining: 4.63s\n",
      "80:\tlearn: 0.4291530\ttest: 0.4391585\tbest: 0.4391585 (80)\ttotal: 399ms\tremaining: 4.52s\n",
      "90:\tlearn: 0.4153198\ttest: 0.4262856\tbest: 0.4262856 (90)\ttotal: 441ms\tremaining: 4.4s\n",
      "100:\tlearn: 0.4033556\ttest: 0.4152371\tbest: 0.4152371 (100)\ttotal: 485ms\tremaining: 4.31s\n",
      "110:\tlearn: 0.3927692\ttest: 0.4055513\tbest: 0.4055513 (110)\ttotal: 524ms\tremaining: 4.2s\n",
      "120:\tlearn: 0.3826187\ttest: 0.3967194\tbest: 0.3967194 (120)\ttotal: 569ms\tremaining: 4.13s\n",
      "130:\tlearn: 0.3745869\ttest: 0.3898217\tbest: 0.3898217 (130)\ttotal: 612ms\tremaining: 4.06s\n",
      "140:\tlearn: 0.3668661\ttest: 0.3833942\tbest: 0.3833942 (140)\ttotal: 657ms\tremaining: 4s\n",
      "150:\tlearn: 0.3604764\ttest: 0.3777529\tbest: 0.3777529 (150)\ttotal: 700ms\tremaining: 3.94s\n",
      "160:\tlearn: 0.3545025\ttest: 0.3731292\tbest: 0.3731292 (160)\ttotal: 743ms\tremaining: 3.87s\n",
      "170:\tlearn: 0.3488443\ttest: 0.3687086\tbest: 0.3687086 (170)\ttotal: 787ms\tremaining: 3.81s\n",
      "180:\tlearn: 0.3441759\ttest: 0.3650359\tbest: 0.3650359 (180)\ttotal: 828ms\tremaining: 3.75s\n",
      "190:\tlearn: 0.3395906\ttest: 0.3616937\tbest: 0.3616937 (190)\ttotal: 872ms\tremaining: 3.69s\n",
      "200:\tlearn: 0.3353137\ttest: 0.3587363\tbest: 0.3587363 (200)\ttotal: 914ms\tremaining: 3.63s\n",
      "210:\tlearn: 0.3313455\ttest: 0.3562422\tbest: 0.3562422 (210)\ttotal: 957ms\tremaining: 3.58s\n",
      "220:\tlearn: 0.3276053\ttest: 0.3539316\tbest: 0.3539316 (220)\ttotal: 1s\tremaining: 3.53s\n",
      "230:\tlearn: 0.3239545\ttest: 0.3516504\tbest: 0.3516504 (230)\ttotal: 1.04s\tremaining: 3.48s\n",
      "240:\tlearn: 0.3206972\ttest: 0.3496582\tbest: 0.3496582 (240)\ttotal: 1.09s\tremaining: 3.42s\n",
      "250:\tlearn: 0.3180206\ttest: 0.3481581\tbest: 0.3481581 (250)\ttotal: 1.13s\tremaining: 3.38s\n",
      "260:\tlearn: 0.3151772\ttest: 0.3468916\tbest: 0.3468916 (260)\ttotal: 1.17s\tremaining: 3.33s\n",
      "270:\tlearn: 0.3127521\ttest: 0.3455880\tbest: 0.3455880 (270)\ttotal: 1.22s\tremaining: 3.27s\n",
      "280:\tlearn: 0.3102320\ttest: 0.3445266\tbest: 0.3445266 (280)\ttotal: 1.26s\tremaining: 3.22s\n",
      "290:\tlearn: 0.3080471\ttest: 0.3434069\tbest: 0.3434069 (290)\ttotal: 1.3s\tremaining: 3.17s\n",
      "300:\tlearn: 0.3056842\ttest: 0.3423039\tbest: 0.3423039 (300)\ttotal: 1.34s\tremaining: 3.12s\n",
      "310:\tlearn: 0.3033316\ttest: 0.3413378\tbest: 0.3413378 (310)\ttotal: 1.39s\tremaining: 3.08s\n",
      "320:\tlearn: 0.3011544\ttest: 0.3406531\tbest: 0.3406531 (320)\ttotal: 1.44s\tremaining: 3.05s\n",
      "330:\tlearn: 0.2992962\ttest: 0.3397803\tbest: 0.3397803 (330)\ttotal: 1.5s\tremaining: 3.04s\n",
      "340:\tlearn: 0.2973676\ttest: 0.3390374\tbest: 0.3390374 (340)\ttotal: 1.55s\tremaining: 3s\n",
      "350:\tlearn: 0.2955907\ttest: 0.3385528\tbest: 0.3385528 (350)\ttotal: 1.59s\tremaining: 2.95s\n",
      "360:\tlearn: 0.2935846\ttest: 0.3379307\tbest: 0.3379307 (360)\ttotal: 1.64s\tremaining: 2.9s\n",
      "370:\tlearn: 0.2915576\ttest: 0.3373645\tbest: 0.3373645 (370)\ttotal: 1.68s\tremaining: 2.85s\n",
      "380:\tlearn: 0.2898181\ttest: 0.3369633\tbest: 0.3369633 (380)\ttotal: 1.73s\tremaining: 2.81s\n",
      "390:\tlearn: 0.2882686\ttest: 0.3363962\tbest: 0.3363962 (390)\ttotal: 1.77s\tremaining: 2.76s\n",
      "400:\tlearn: 0.2865834\ttest: 0.3361842\tbest: 0.3361842 (400)\ttotal: 1.81s\tremaining: 2.71s\n",
      "410:\tlearn: 0.2848180\ttest: 0.3358488\tbest: 0.3358488 (410)\ttotal: 1.86s\tremaining: 2.67s\n",
      "420:\tlearn: 0.2830649\ttest: 0.3353323\tbest: 0.3353323 (420)\ttotal: 1.9s\tremaining: 2.62s\n",
      "430:\tlearn: 0.2815905\ttest: 0.3348920\tbest: 0.3348920 (430)\ttotal: 1.95s\tremaining: 2.57s\n",
      "440:\tlearn: 0.2798624\ttest: 0.3346031\tbest: 0.3346031 (440)\ttotal: 2s\tremaining: 2.54s\n",
      "450:\tlearn: 0.2784613\ttest: 0.3343468\tbest: 0.3343468 (450)\ttotal: 2.05s\tremaining: 2.49s\n",
      "460:\tlearn: 0.2769877\ttest: 0.3340021\tbest: 0.3340021 (460)\ttotal: 2.09s\tremaining: 2.45s\n",
      "470:\tlearn: 0.2755235\ttest: 0.3337932\tbest: 0.3337932 (470)\ttotal: 2.15s\tremaining: 2.41s\n",
      "480:\tlearn: 0.2742096\ttest: 0.3336715\tbest: 0.3336715 (480)\ttotal: 2.19s\tremaining: 2.37s\n",
      "490:\tlearn: 0.2728070\ttest: 0.3333481\tbest: 0.3333481 (490)\ttotal: 2.24s\tremaining: 2.33s\n",
      "500:\tlearn: 0.2713735\ttest: 0.3332498\tbest: 0.3332498 (500)\ttotal: 2.3s\tremaining: 2.29s\n",
      "510:\tlearn: 0.2702196\ttest: 0.3330694\tbest: 0.3330694 (510)\ttotal: 2.35s\tremaining: 2.25s\n",
      "520:\tlearn: 0.2688722\ttest: 0.3328974\tbest: 0.3328974 (520)\ttotal: 2.4s\tremaining: 2.2s\n",
      "530:\tlearn: 0.2676403\ttest: 0.3326498\tbest: 0.3326498 (530)\ttotal: 2.44s\tremaining: 2.15s\n",
      "540:\tlearn: 0.2661153\ttest: 0.3325115\tbest: 0.3325115 (540)\ttotal: 2.49s\tremaining: 2.11s\n",
      "550:\tlearn: 0.2647541\ttest: 0.3324379\tbest: 0.3324379 (550)\ttotal: 2.53s\tremaining: 2.06s\n",
      "560:\tlearn: 0.2631167\ttest: 0.3322636\tbest: 0.3322636 (560)\ttotal: 2.58s\tremaining: 2.02s\n",
      "570:\tlearn: 0.2619122\ttest: 0.3322695\tbest: 0.3322636 (560)\ttotal: 2.63s\tremaining: 1.97s\n",
      "580:\tlearn: 0.2607304\ttest: 0.3321308\tbest: 0.3321308 (580)\ttotal: 2.67s\tremaining: 1.93s\n",
      "590:\tlearn: 0.2596770\ttest: 0.3320530\tbest: 0.3320530 (590)\ttotal: 2.71s\tremaining: 1.88s\n",
      "600:\tlearn: 0.2583489\ttest: 0.3318335\tbest: 0.3318335 (600)\ttotal: 2.76s\tremaining: 1.83s\n",
      "610:\tlearn: 0.2569813\ttest: 0.3316252\tbest: 0.3316252 (610)\ttotal: 2.8s\tremaining: 1.78s\n",
      "620:\tlearn: 0.2556092\ttest: 0.3314705\tbest: 0.3314705 (620)\ttotal: 2.85s\tremaining: 1.74s\n",
      "630:\tlearn: 0.2545471\ttest: 0.3313649\tbest: 0.3313649 (630)\ttotal: 2.89s\tremaining: 1.69s\n",
      "640:\tlearn: 0.2532965\ttest: 0.3312336\tbest: 0.3312336 (640)\ttotal: 2.94s\tremaining: 1.64s\n",
      "650:\tlearn: 0.2520417\ttest: 0.3310776\tbest: 0.3310776 (650)\ttotal: 2.98s\tremaining: 1.6s\n",
      "660:\tlearn: 0.2507743\ttest: 0.3310044\tbest: 0.3310044 (660)\ttotal: 3.02s\tremaining: 1.55s\n",
      "670:\tlearn: 0.2493965\ttest: 0.3310391\tbest: 0.3310044 (660)\ttotal: 3.07s\tremaining: 1.5s\n",
      "680:\tlearn: 0.2483962\ttest: 0.3309756\tbest: 0.3309756 (680)\ttotal: 3.11s\tremaining: 1.46s\n",
      "690:\tlearn: 0.2471272\ttest: 0.3310624\tbest: 0.3309756 (680)\ttotal: 3.16s\tremaining: 1.41s\n",
      "700:\tlearn: 0.2459500\ttest: 0.3309227\tbest: 0.3309227 (700)\ttotal: 3.2s\tremaining: 1.36s\n",
      "710:\tlearn: 0.2450351\ttest: 0.3308686\tbest: 0.3308686 (710)\ttotal: 3.24s\tremaining: 1.32s\n",
      "720:\tlearn: 0.2441215\ttest: 0.3308204\tbest: 0.3308204 (720)\ttotal: 3.29s\tremaining: 1.27s\n",
      "730:\tlearn: 0.2428537\ttest: 0.3306504\tbest: 0.3306504 (730)\ttotal: 3.33s\tremaining: 1.23s\n",
      "740:\tlearn: 0.2417680\ttest: 0.3306650\tbest: 0.3306504 (730)\ttotal: 3.37s\tremaining: 1.18s\n",
      "750:\tlearn: 0.2407264\ttest: 0.3307838\tbest: 0.3306504 (730)\ttotal: 3.42s\tremaining: 1.13s\n",
      "760:\tlearn: 0.2395941\ttest: 0.3307623\tbest: 0.3306504 (730)\ttotal: 3.46s\tremaining: 1.09s\n",
      "770:\tlearn: 0.2384574\ttest: 0.3307609\tbest: 0.3306504 (730)\ttotal: 3.5s\tremaining: 1.04s\n",
      "780:\tlearn: 0.2371857\ttest: 0.3308252\tbest: 0.3306504 (730)\ttotal: 3.55s\tremaining: 995ms\n",
      "790:\tlearn: 0.2360497\ttest: 0.3306917\tbest: 0.3306504 (730)\ttotal: 3.59s\tremaining: 949ms\n",
      "800:\tlearn: 0.2351563\ttest: 0.3305621\tbest: 0.3305621 (800)\ttotal: 3.63s\tremaining: 903ms\n",
      "810:\tlearn: 0.2342106\ttest: 0.3305988\tbest: 0.3305621 (800)\ttotal: 3.68s\tremaining: 858ms\n",
      "820:\tlearn: 0.2331394\ttest: 0.3306969\tbest: 0.3305621 (800)\ttotal: 3.72s\tremaining: 812ms\n",
      "830:\tlearn: 0.2321394\ttest: 0.3306384\tbest: 0.3305621 (800)\ttotal: 3.77s\tremaining: 766ms\n",
      "840:\tlearn: 0.2311417\ttest: 0.3306244\tbest: 0.3305621 (800)\ttotal: 3.81s\tremaining: 720ms\n",
      "850:\tlearn: 0.2301604\ttest: 0.3305643\tbest: 0.3305621 (800)\ttotal: 3.85s\tremaining: 675ms\n",
      "860:\tlearn: 0.2289876\ttest: 0.3306069\tbest: 0.3305621 (800)\ttotal: 3.9s\tremaining: 629ms\n",
      "870:\tlearn: 0.2279626\ttest: 0.3307497\tbest: 0.3305621 (800)\ttotal: 3.94s\tremaining: 584ms\n",
      "880:\tlearn: 0.2271495\ttest: 0.3307774\tbest: 0.3305621 (800)\ttotal: 3.99s\tremaining: 539ms\n",
      "890:\tlearn: 0.2261005\ttest: 0.3306987\tbest: 0.3305621 (800)\ttotal: 4.03s\tremaining: 493ms\n",
      "900:\tlearn: 0.2254139\ttest: 0.3308602\tbest: 0.3305621 (800)\ttotal: 4.07s\tremaining: 448ms\n",
      "910:\tlearn: 0.2245868\ttest: 0.3310082\tbest: 0.3305621 (800)\ttotal: 4.12s\tremaining: 402ms\n",
      "920:\tlearn: 0.2235244\ttest: 0.3309412\tbest: 0.3305621 (800)\ttotal: 4.16s\tremaining: 357ms\n",
      "930:\tlearn: 0.2225535\ttest: 0.3309153\tbest: 0.3305621 (800)\ttotal: 4.2s\tremaining: 312ms\n",
      "940:\tlearn: 0.2212382\ttest: 0.3309603\tbest: 0.3305621 (800)\ttotal: 4.25s\tremaining: 266ms\n",
      "950:\tlearn: 0.2200161\ttest: 0.3310089\tbest: 0.3305621 (800)\ttotal: 4.29s\tremaining: 221ms\n",
      "960:\tlearn: 0.2190483\ttest: 0.3309341\tbest: 0.3305621 (800)\ttotal: 4.33s\tremaining: 176ms\n",
      "970:\tlearn: 0.2182405\ttest: 0.3309199\tbest: 0.3305621 (800)\ttotal: 4.38s\tremaining: 131ms\n",
      "980:\tlearn: 0.2173106\ttest: 0.3309698\tbest: 0.3305621 (800)\ttotal: 4.42s\tremaining: 85.6ms\n",
      "990:\tlearn: 0.2164459\ttest: 0.3310327\tbest: 0.3305621 (800)\ttotal: 4.46s\tremaining: 40.6ms\n",
      "999:\tlearn: 0.2156402\ttest: 0.3310796\tbest: 0.3305621 (800)\ttotal: 4.5s\tremaining: 0us\n",
      "\n",
      "bestTest = 0.3305621403\n",
      "bestIteration = 800\n",
      "\n",
      "Shrink model to first 801 iterations.\n"
     ]
    },
    {
     "data": {
      "text/plain": [
       "<catboost.core.CatBoostClassifier at 0x178877970>"
      ]
     },
     "execution_count": 9,
     "metadata": {},
     "output_type": "execute_result"
    }
   ],
   "source": [
    "train_pool = Pool(X_train, Y_train)\n",
    "test_pool  = Pool(X_test, Y_test)\n",
    "\n",
    "model = CatBoostClassifier(\n",
    "    iterations=1000, \n",
    "    loss_function='MultiLogloss', \n",
    "    eval_metric='MultiLogloss',\n",
    "    learning_rate=0.01,\n",
    "    bootstrap_type='Bayesian', \n",
    "    boost_from_average=False,\n",
    "    leaf_estimation_iterations=10, \n",
    "    leaf_estimation_method='Gradient', \n",
    "    custom_metric=['Recall', 'Precision', 'F1'],\n",
    "    random_seed=cfg.RANDOM_STATE,\n",
    "    task_type='CPU',\n",
    "    devices='0:1',\n",
    ")\n",
    "\n",
    "model.fit(train_pool, \n",
    "        eval_set=test_pool, \n",
    "        metric_period=10, \n",
    "        plot=True, \n",
    "        verbose=True, \n",
    ")"
   ]
  },
  {
   "cell_type": "code",
   "execution_count": 21,
   "metadata": {},
   "outputs": [
    {
     "data": {
      "text/plain": [
       "{'Precision:class=3': 1.0,\n",
       " 'Recall:class=3': 0.05555555555555555,\n",
       " 'F1:class=2': 0.0909090909090909,\n",
       " 'F1:class=0': 0.7628865979381443,\n",
       " 'Recall:class=0': 0.872093023255814,\n",
       " 'Precision:class=1': 1.0,\n",
       " 'Recall:class=2': 0.047619047619047616,\n",
       " 'Precision:class=4': 1.0,\n",
       " 'Precision:class=2': 1.0,\n",
       " 'F1:class=3': 0.10526315789473684,\n",
       " 'Precision:class=0': 0.6914893617021277,\n",
       " 'Recall:class=1': 0.0,\n",
       " 'Recall:class=4': 0.0,\n",
       " 'F1:class=4': 0.0,\n",
       " 'F1:class=1': 0.0,\n",
       " 'MultiLogloss': 0.33056214031295184}"
      ]
     },
     "execution_count": 21,
     "metadata": {},
     "output_type": "execute_result"
    }
   ],
   "source": [
    "model.best_score_.get('validation')"
   ]
  },
  {
   "cell_type": "code",
   "execution_count": 11,
   "metadata": {},
   "outputs": [
    {
     "data": {
      "image/png": "[encoded data removed]",
      "text/plain": [
       "<Figure size 864x432 with 1 Axes>"
      ]
     },
     "metadata": {},
     "output_type": "display_data"
    }
   ],
   "source": [
    "feature_importance = model.feature_importances_\n",
    "sorted_idx = np.argsort(feature_importance)\n",
    "fig = plt.figure(figsize=(12, 6))\n",
    "plt.barh(range(len(sorted_idx)), feature_importance[sorted_idx], align='center')\n",
    "plt.title('Feature Importance')\n",
    "plt.show()"
   ]
  },
  {
   "cell_type": "markdown",
   "metadata": {},
   "source": [
    "Metrics"
   ]
  },
  {
   "cell_type": "code",
   "execution_count": 12,
   "metadata": {},
   "outputs": [
    {
     "name": "stdout",
     "output_type": "stream",
     "text": [
      "Accuracy: 0.5392670157068062\n",
      "Recall: [0.80232558 0.         0.         0.         0.        ]\n",
      "AUC: [0.74401993 0.5        0.5        0.5        0.5       ]\n"
     ]
    }
   ],
   "source": [
    "Y_real = Y_test\n",
    "Y_pred = np.array(model.predict(X_test), dtype=np.int8)\n",
    "\n",
    "print(f\"Accuracy: {accuracy_score(Y_pred, Y_real)}\")\n",
    "print(f\"Recall: {recall_score(Y_real, Y_pred, average=None, zero_division=0)}\")\n",
    "print(f\"AUC: {roc_auc_score(Y_real, Y_pred, average=None)}\")\n",
    "\n",
    "utils.save_model(model, str(os.getcwd() + \"/../data/interim/CatboostClassifier.pkl\"))"
   ]
  },
  {
   "cell_type": "markdown",
   "metadata": {},
   "source": [
    "Try to get better recall with desisionTreeClassifier"
   ]
  },
  {
   "cell_type": "code",
   "execution_count": 13,
   "metadata": {},
   "outputs": [
    {
     "name": "stdout",
     "output_type": "stream",
     "text": [
      "Accuracy: 0.38219895287958117\n",
      "Recall: [0.62790698 0.         0.04761905 0.         0.21052632]\n",
      "AUC: [0.65681063 0.48333333 0.47380952 0.44219653 0.55584455]\n"
     ]
    }
   ],
   "source": [
    "DesisionTree = tree.tree_pipe.fit(X_train, Y_train)\n",
    "\n",
    "Y_real = Y_test\n",
    "Y_pred = np.array(DesisionTree.predict(X_test), dtype=np.int8)\n",
    "\n",
    "print(f\"Accuracy: {accuracy_score(Y_pred, Y_real)}\")\n",
    "print(f\"Recall: {recall_score(Y_real, Y_pred, average=None, zero_division=0)}\")\n",
    "print(f\"AUC: {roc_auc_score(Y_real, Y_pred, average=None)}\")\n",
    "\n",
    "utils.save_model(DesisionTree, str(os.getcwd() + \"/../data/interim/DesisionTree.pkl\"))"
   ]
  },
  {
   "cell_type": "markdown",
   "metadata": {},
   "source": [
    "Inference"
   ]
  },
  {
   "cell_type": "code",
   "execution_count": 19,
   "metadata": {},
   "outputs": [
    {
     "data": {
      "text/plain": [
       "array([[1, 0, 1, 1, 0],\n",
       "       [0, 0, 0, 0, 0],\n",
       "       [1, 0, 0, 0, 0],\n",
       "       ...,\n",
       "       [1, 0, 0, 1, 0],\n",
       "       [0, 1, 0, 0, 0],\n",
       "       [1, 0, 0, 0, 0]], dtype=int8)"
      ]
     },
     "execution_count": 19,
     "metadata": {},
     "output_type": "execute_result"
    }
   ],
   "source": [
    "np.array(DesisionTree.predict(Transformer.transform(val_data)), dtype=np.int8)"
   ]
  },
  {
   "cell_type": "markdown",
   "metadata": {},
   "source": [
    "Tuning"
   ]
  },
  {
   "cell_type": "code",
   "execution_count": null,
   "metadata": {},
   "outputs": [],
   "source": [
    "df = pd.concat([train_data, target_data], axis=1).copy()\n",
    "\n",
    "\n",
    "from sklearn.model_selection import KFold\n",
    "from sklearn.metrics import r2_score, mean_squared_error\n",
    "\n",
    "kf = KFold(n_splits=3, shuffle=True)\n",
    "\n",
    "DEFAULT_PARAMETERS = {'n_estimators' : 4500, 'learning_rate' : 0.1}\n",
    "DEFAULT_MODEL_METRICS = {}\n",
    "\n",
    "\n",
    "def score_catboost_model(df, catboost_parameters, update_defaults=False):\n",
    "    r2_values = []\n",
    "    rmse_values = []\n",
    "    catboost_parameters.update(DEFAULT_PARAMETERS)\n",
    "    for train_index, test_index in kf.split(df):\n",
    "        train_pool = Pool(pd.DataFrame(Transformer.transform(df)[train_index, :-5]).T,\n",
    "                          pd.DataFrame(Transformer.transform(df)[train_index, -5:]).T\n",
    "        )\n",
    "\n",
    "        test_pool = Pool(pd.DataFrame(Transformer.transform(df)[test_index, :-5]).T,\n",
    "                         pd.DataFrame(Transformer.transform(df)[test_index, -5:]).T  \n",
    "        )\n",
    "\n",
    "        model = CatBoostClassifier(catboost_parameters)\n",
    "        model.fit(train_pool, verbose=False)\n",
    "        \n",
    "        r2_values.append(r2_score(df.iloc[test_index].price_usd.values, model.predict(test_pool)))\n",
    "        rmse_values.append(mean_squared_error(df.iloc[test_index].price_usd.values,\n",
    "                                              model.predict(test_pool),\n",
    "                                              squared=False)) \n",
    "    if update_defaults:\n",
    "        DEFAULT_MODEL_METRICS['R2'] = np.mean(r2_values)\n",
    "        DEFAULT_MODEL_METRICS['RMSE'] = np.mean(rmse_values)\n",
    "        print('R2 score: {:.4f}({:.4f})'.format(np.mean(r2_values), np.std(r2_values)))\n",
    "        print('RMSE score: {:.0f}({:.0f})'.format(np.mean(rmse_values), np.std(rmse_values)))  \n",
    "\n",
    "    else:\n",
    "        DEFAULT_MODEL_R2 = DEFAULT_MODEL_METRICS['R2']\n",
    "        DEFAULT_MODEL_RMSE = DEFAULT_MODEL_METRICS['RMSE']\n",
    "        r2_change = 100 * (np.mean(r2_values) - DEFAULT_MODEL_R2) / DEFAULT_MODEL_R2\n",
    "        rmse_change = 100 * (np.mean(rmse_values) - DEFAULT_MODEL_RMSE) / DEFAULT_MODEL_RMSE\n",
    "        print('R2 score: {:.4f}({:.4f}) {:+.1f}% compared to default parameters'.format(\n",
    "            np.mean(r2_values), np.std(r2_values), r2_change))\n",
    "        print('RMSE score: {:.0f}({:.0f}) {:+.1f}% compared to default parameters'.format(\n",
    "            np.mean(rmse_values), np.std(rmse_values), rmse_change))  \n",
    "        \n",
    "    return model.get_all_params()\n"
   ]
  },
  {
   "cell_type": "code",
   "execution_count": null,
   "metadata": {},
   "outputs": [],
   "source": [
    "model_params = score_catboost_model(train_data, {'model_size_reg': 0})"
   ]
  }
 ],
 "metadata": {
  "kernelspec": {
   "display_name": "Python 3.10.8 ('venv': venv)",
   "language": "python",
   "name": "python3"
  },
  "language_info": {
   "codemirror_mode": {
    "name": "ipython",
    "version": 3
   },
   "file_extension": ".py",
   "mimetype": "text/x-python",
   "name": "python",
   "nbconvert_exporter": "python",
   "pygments_lexer": "ipython3",
   "version": "3.10.8"
  },
  "orig_nbformat": 4,
  "vscode": {
   "interpreter": {
    "hash": "7c41ac46430c38179133767c9d111e07a4ee1063377571f3168b1ca5f16a24c9"
   }
  }
 },
 "nbformat": 4,
 "nbformat_minor": 2
}
