{
 "cells": [
  {
   "cell_type": "code",
   "execution_count": 19,
   "metadata": {},
   "outputs": [],
   "source": [
    "# Work with paths\n",
    "import os\n",
    "import sys\n",
    "sys.path.append('..')\n",
    "\n",
    "# import implemented modules\n",
    "from src.models import tree\n",
    "import src.config as cfg\n",
    "# from src.data import make_dataset\n",
    "# import src.utils as utils\n",
    "# from src.visualization import visualize\n",
    "# from src.features import features\n",
    "\n",
    "# import other modules\n",
    "import pandas as pd\n",
    "import numpy as np\n",
    "import seaborn as sns\n",
    "import sklearn\n",
    "from sklearn.model_selection import train_test_split\n",
    "from sklearn.metrics import accuracy_score, recall_score, roc_auc_score\n",
    "from catboost import CatBoostRegressor, metrics, Pool\n",
    "import matplotlib.pyplot as plt\n",
    "\n",
    "from sklearn.pipeline import Pipeline\n",
    "from sklearn.impute import SimpleImputer\n",
    "from sklearn.preprocessing import StandardScaler, OneHotEncoder\n",
    "from sklearn.compose import ColumnTransformer\n",
    "\n"
   ]
  },
  {
   "cell_type": "markdown",
   "metadata": {},
   "source": [
    "# Generate Dataset"
   ]
  },
  {
   "cell_type": "code",
   "execution_count": 20,
   "metadata": {},
   "outputs": [
    {
     "name": "stdout",
     "output_type": "stream",
     "text": [
      "2022-10-22 20:19:33,530 - __main__ - INFO - making final data set from raw data\n",
      "2022-10-22 20:19:33,659 - __main__ - INFO - Dataset saved to ../data/processed/train_data.pkl\n"
     ]
    }
   ],
   "source": [
    "! python3 ../src/data/make_dataset.py                           \\\n",
    "    --input_filepath=../data/raw/train.csv                      \\\n",
    "    --output_data_filepath=../data/processed/train_data.pkl     \\\n",
    "    --output_encoder_filepath=../data/processed/transformer.pkl"
   ]
  },
  {
   "cell_type": "code",
   "execution_count": 21,
   "metadata": {
    "vscode": {
     "languageId": "shellscript"
    }
   },
   "outputs": [
    {
     "name": "stdout",
     "output_type": "stream",
     "text": [
      "2022-10-22 20:19:36,387 - __main__ - INFO - making final data set from raw data\n",
      "2022-10-22 20:19:36,493 - __main__ - INFO - Dataset saved to ../data/processed/val_data.pkl\n"
     ]
    }
   ],
   "source": [
    "! python3 ../src/data/make_dataset.py                           \\\n",
    "    --input_filepath=../data/raw/test.csv                       \\\n",
    "    --output_data_filepath=../data/processed/val_data.pkl       \\\n",
    "    --is_val=True                                               \\\n",
    "    --output_encoder_filepath=../data/processed/transformer.pkl"
   ]
  },
  {
   "cell_type": "markdown",
   "metadata": {},
   "source": [
    "None"
   ]
  },
  {
   "cell_type": "markdown",
   "metadata": {},
   "source": [
    "Load dataset"
   ]
  },
  {
   "cell_type": "code",
   "execution_count": 22,
   "metadata": {},
   "outputs": [],
   "source": [
    "train_data  = pd.read_pickle(str(os.getcwd() + \"/../data/processed/train_data.pkl\"))\n",
    "\n",
    "val_data   = pd.read_pickle(str(os.getcwd() + \"/../data/processed/val_data.pkl\"))"
   ]
  },
  {
   "cell_type": "markdown",
   "metadata": {},
   "source": [
    "Visualize data"
   ]
  },
  {
   "cell_type": "markdown",
   "metadata": {},
   "source": [
    "If we want to predict illness, we are interested not in getting FalseNegative that is why main function is Recall\n",
    "\n",
    "$$\\text{Recall}=\\frac{TP}{TP+FN}$$"
   ]
  },
  {
   "cell_type": "markdown",
   "metadata": {},
   "source": [
    "Generate tran and test selections"
   ]
  },
  {
   "cell_type": "code",
   "execution_count": 44,
   "metadata": {},
   "outputs": [],
   "source": [
    "X_train, X_test, Y_train, Y_test = train_test_split(\n",
    "                                                    train_data[:,:-1],\n",
    "                                                    train_data[:,-1],\n",
    "                                                    train_size=0.8,\n",
    "                                                    random_state=cfg.RANDOM_STATE,\n",
    "                                                    )"
   ]
  },
  {
   "cell_type": "code",
   "execution_count": 48,
   "metadata": {},
   "outputs": [
    {
     "data": {
      "application/vnd.jupyter.widget-view+json": {
       "model_id": "3ae67e49890b423c9ab859006375ea7f",
       "version_major": 2,
       "version_minor": 0
      },
      "text/plain": [
       "MetricVisualizer(layout=Layout(align_self='stretch', height='500px'))"
      ]
     },
     "metadata": {},
     "output_type": "display_data"
    }
   ],
   "source": [
    "Train_set = Pool(X_train, Y_train)\n",
    "Test_set  = Pool(X_test, Y_test)\n",
    "\n",
    "param = {'one_hot_max_size':1024,'iterations': 2000, 'learning_rate': 0.05, 'use_best_model': True, 'od_type': 'Iter', 'od_wait': 100, 'depth': 7, 'l2_leaf_reg': 0.13679400187948992,'loss_function':'MAE'}\n",
    "model = CatBoostRegressor(**param)\n",
    "model.fit(Train_set, eval_set=Test_set, plot=True, verbose=False)\n",
    "\n",
    "pred = model.predict(Pool(X_test))"
   ]
  },
  {
   "cell_type": "code",
   "execution_count": 54,
   "metadata": {},
   "outputs": [
    {
     "data": {
      "text/plain": [
       "17542.550197271823"
      ]
     },
     "execution_count": 54,
     "metadata": {},
     "output_type": "execute_result"
    }
   ],
   "source": [
    "model.best_score_.get('validation')\n",
    "mean_absolute_error(Y_test, model.predict(X_test))"
   ]
  },
  {
   "cell_type": "code",
   "execution_count": 53,
   "metadata": {},
   "outputs": [
    {
     "data": {
      "text/plain": [
       "62469651416710.93"
      ]
     },
     "execution_count": 53,
     "metadata": {},
     "output_type": "execute_result"
    }
   ],
   "source": [
    "from sklearn.linear_model import LinearRegression\n",
    "from sklearn.metrics import mean_absolute_error\n",
    "\n",
    "reg = LinearRegression().fit(X_train, Y_train)\n",
    "mean_absolute_error(Y_test, reg.predict(X_test))\n",
    "\n"
   ]
  },
  {
   "cell_type": "code",
   "execution_count": 12,
   "metadata": {},
   "outputs": [
    {
     "name": "stdout",
     "output_type": "stream",
     "text": [
      "Accuracy: 0.5392670157068062\n",
      "Recall: [0.80232558 0.         0.         0.         0.        ]\n",
      "AUC: [0.74401993 0.5        0.5        0.5        0.5       ]\n"
     ]
    }
   ],
   "source": [
    "utils.save_model(model, str(os.getcwd() + \"/../data/interim/CatboostClassifier.pkl\"))"
   ]
  }
 ],
 "metadata": {
  "kernelspec": {
   "display_name": "Python 3.10.8 ('venv': venv)",
   "language": "python",
   "name": "python3"
  },
  "language_info": {
   "codemirror_mode": {
    "name": "ipython",
    "version": 3
   },
   "file_extension": ".py",
   "mimetype": "text/x-python",
   "name": "python",
   "nbconvert_exporter": "python",
   "pygments_lexer": "ipython3",
   "version": "3.10.8"
  },
  "orig_nbformat": 4,
  "vscode": {
   "interpreter": {
    "hash": "7c41ac46430c38179133767c9d111e07a4ee1063377571f3168b1ca5f16a24c9"
   }
  }
 },
 "nbformat": 4,
 "nbformat_minor": 2
}
