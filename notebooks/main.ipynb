{
 "cells": [
  {
   "cell_type": "code",
   "execution_count": 19,
   "metadata": {},
   "outputs": [],
   "source": [
    "# Work with paths\n",
    "import os\n",
    "import sys\n",
    "sys.path.append('..')\n",
    "\n",
    "# import implemented modules\n",
    "from src.models import tree\n",
    "import src.config as cfg\n",
    "\n",
    "# import other modules\n",
    "import pandas as pd\n",
    "import numpy as np\n",
    "import seaborn as sns\n",
    "import sklearn\n",
    "from sklearn.model_selection import train_test_split\n",
    "from sklearn.metrics import accuracy_score, recall_score, roc_auc_score\n",
    "from catboost import CatBoostRegressor, metrics, Pool\n",
    "import matplotlib.pyplot as plt\n",
    "\n",
    "from sklearn.pipeline import Pipeline\n",
    "from sklearn.impute import SimpleImputer\n",
    "from sklearn.preprocessing import StandardScaler, OneHotEncoder\n",
    "from sklearn.compose import ColumnTransformer\n",
    "\n",
    "from sklearn.linear_model import LinearRegression\n",
    "from sklearn.metrics import mean_absolute_error"
   ]
  },
  {
   "cell_type": "markdown",
   "metadata": {},
   "source": [
    "# Generate Dataset"
   ]
  },
  {
   "cell_type": "code",
   "execution_count": 83,
   "metadata": {},
   "outputs": [
    {
     "name": "stdout",
     "output_type": "stream",
     "text": [
      "2022-10-22 23:50:16,578 - __main__ - INFO - preprocess data\n",
      "2022-10-22 23:50:16,719 - __main__ - INFO - Dataset saved to ../data/processed/train_data.pkl\n"
     ]
    }
   ],
   "source": [
    "! python3 ../src/data/make_dataset.py                           \\\n",
    "    --input_filepath=../data/raw/train.csv                      \\\n",
    "    --output_data_filepath=../data/processed/train_data.pkl     \\\n",
    "    --output_encoder_filepath=../data/processed/transformer.pkl"
   ]
  },
  {
   "cell_type": "code",
   "execution_count": 84,
   "metadata": {},
   "outputs": [
    {
     "name": "stdout",
     "output_type": "stream",
     "text": [
      "2022-10-22 23:50:19,038 - __main__ - INFO - Split data into train and test\n"
     ]
    }
   ],
   "source": [
    "! python3 ../src/models/make_split.py                           \\\n",
    "    --input_data_filepath=../data/processed/train_data.pkl      \\\n",
    "    --output_selection_path=../data/interim/train_selection.pkl"
   ]
  },
  {
   "cell_type": "markdown",
   "metadata": {},
   "source": [
    "# Train model"
   ]
  },
  {
   "cell_type": "code",
   "execution_count": 85,
   "metadata": {},
   "outputs": [
    {
     "name": "stdout",
     "output_type": "stream",
     "text": [
      "2022-10-22 23:50:29,699 - __main__ - INFO - training catboost model\n",
      "MetricVisualizer(layout=Layout(align_self='stretch', height='500px'))\n",
      "2022-10-22 23:50:32,558 - __main__ - INFO - metrics saved to ../data/external/metrics.txt\n"
     ]
    }
   ],
   "source": [
    "! python3 ../src/models/train_model.py                          \\\n",
    "    --input_data_filepath=../data/interim/train_selection.pkl   \\\n",
    "    --output_model_filepath=../data/external/model.pkl          \\\n",
    "    --output_metrics_filepath=../reports/metrics/metrics.txt      \\\n",
    "    --plot_file=../reports/figures/learning_curve.html"
   ]
  },
  {
   "cell_type": "code",
   "execution_count": 86,
   "metadata": {},
   "outputs": [
    {
     "name": "stdout",
     "output_type": "stream",
     "text": [
      "2022-10-22 23:50:36,206 - __main__ - INFO - training model\n",
      "2022-10-22 23:50:36,515 - __main__ - INFO - metrics saved to ../reports/metrics/metrics_linear_reg.txt\n"
     ]
    }
   ],
   "source": [
    "! python3 ../src/models/linear_reg.py                                   \\\n",
    "    --input_data_filepath=../data/interim/train_selection.pkl           \\\n",
    "    --output_model_filepath=../data/external/model_linear_reg.pkl       \\\n",
    "    --output_metrics_filepath=../reports/metrics/metrics_linear_reg.txt"
   ]
  },
  {
   "cell_type": "markdown",
   "metadata": {},
   "source": [
    "# Run inference"
   ]
  },
  {
   "cell_type": "code",
   "execution_count": 87,
   "metadata": {
    "vscode": {
     "languageId": "shellscript"
    }
   },
   "outputs": [
    {
     "name": "stdout",
     "output_type": "stream",
     "text": [
      "2022-10-22 23:50:40,152 - __main__ - INFO - preprocess data\n",
      "2022-10-22 23:50:40,259 - __main__ - INFO - Dataset saved to ../data/processed/val_data.pkl\n"
     ]
    }
   ],
   "source": [
    "! python3 ../src/data/make_dataset.py                           \\\n",
    "    --input_filepath=../data/raw/test.csv                       \\\n",
    "    --output_data_filepath=../data/processed/val_data.pkl       \\\n",
    "    --is_val=True                                               \\\n",
    "    --output_encoder_filepath=../data/processed/transformer.pkl"
   ]
  },
  {
   "cell_type": "code",
   "execution_count": 88,
   "metadata": {
    "vscode": {
     "languageId": "shellscript"
    }
   },
   "outputs": [
    {
     "name": "stdout",
     "output_type": "stream",
     "text": [
      "2022-10-22 23:50:43,000 - __main__ - INFO - run inference\n",
      "2022-10-22 23:50:43,245 - __main__ - INFO - saved to file ../reports/kaggle/ansvers.csv\n"
     ]
    }
   ],
   "source": [
    "! python3 ../src/models/run_inference.py                         \\\n",
    "    --input_filepath=../data/processed/val_data.pkl             \\\n",
    "    --input_model_filepath=../data/external/model.pkl           \\\n",
    "    --csv_outputh_path=../reports/kaggle/ansvers.csv"
   ]
  },
  {
   "cell_type": "markdown",
   "metadata": {},
   "source": [
    "# y"
   ]
  },
  {
   "cell_type": "markdown",
   "metadata": {},
   "source": [
    "Load dataset"
   ]
  },
  {
   "cell_type": "code",
   "execution_count": 22,
   "metadata": {},
   "outputs": [],
   "source": [
    "train_data  = pd.read_pickle(str(os.getcwd() + \"/../data/processed/train_data.pkl\"))\n",
    "val_data    = pd.read_pickle(str(os.getcwd() + \"/../data/processed/val_data.pkl\"  ))"
   ]
  },
  {
   "cell_type": "markdown",
   "metadata": {},
   "source": [
    "Visualize data"
   ]
  },
  {
   "cell_type": "markdown",
   "metadata": {},
   "source": [
    "If we want to predict illness, we are interested not in getting FalseNegative that is why main function is Recall\n",
    "\n",
    "$$\\text{Recall}=\\frac{TP}{TP+FN}$$"
   ]
  },
  {
   "cell_type": "markdown",
   "metadata": {},
   "source": [
    "Generate tran and test selections"
   ]
  },
  {
   "cell_type": "code",
   "execution_count": 44,
   "metadata": {},
   "outputs": [],
   "source": [
    "X_train, X_test, Y_train, Y_test = train_test_split(\n",
    "                                                    train_data[:,:-1],\n",
    "                                                    train_data[:,-1],\n",
    "                                                    train_size=0.8,\n",
    "                                                    random_state=cfg.RANDOM_STATE,\n",
    "                                                    )"
   ]
  },
  {
   "cell_type": "code",
   "execution_count": 57,
   "metadata": {},
   "outputs": [
    {
     "data": {
      "application/vnd.jupyter.widget-view+json": {
       "model_id": "b00b7901bcce460d96594ddff948eaa7",
       "version_major": 2,
       "version_minor": 0
      },
      "text/plain": [
       "MetricVisualizer(layout=Layout(align_self='stretch', height='500px'))"
      ]
     },
     "metadata": {},
     "output_type": "display_data"
    }
   ],
   "source": [
    "Train_set = Pool(X_train, Y_train)\n",
    "Test_set  = Pool(X_test, Y_test)\n",
    "\n",
    "param = {\n",
    "        'one_hot_max_size':1024,\n",
    "        'iterations': 2000, \n",
    "        'learning_rate': 0.05, \n",
    "        'use_best_model': True, \n",
    "        'od_type': 'Iter', \n",
    "        'od_wait': 100, \n",
    "        'depth': 7, \n",
    "        'l2_leaf_reg': 0.13679400187948992,\n",
    "        'loss_function':'MAE'\n",
    "        }\n",
    "\n",
    "model = CatBoostRegressor(**param)\n",
    "model.fit(Train_set, eval_set=Test_set, plot=True, verbose=False)\n",
    "pred = model.predict(Pool(X_test))"
   ]
  },
  {
   "cell_type": "code",
   "execution_count": 54,
   "metadata": {},
   "outputs": [
    {
     "data": {
      "text/plain": [
       "17542.550197271823"
      ]
     },
     "execution_count": 54,
     "metadata": {},
     "output_type": "execute_result"
    }
   ],
   "source": [
    "model.best_score_.get('validation')\n",
    "mean_absolute_error(Y_test, model.predict(X_test))"
   ]
  },
  {
   "cell_type": "code",
   "execution_count": 53,
   "metadata": {},
   "outputs": [
    {
     "data": {
      "text/plain": [
       "62469651416710.93"
      ]
     },
     "execution_count": 53,
     "metadata": {},
     "output_type": "execute_result"
    }
   ],
   "source": [
    "reg = LinearRegression().fit(X_train, Y_train)\n",
    "mean_absolute_error(Y_test, reg.predict(X_test))\n",
    "\n"
   ]
  },
  {
   "cell_type": "code",
   "execution_count": 12,
   "metadata": {},
   "outputs": [
    {
     "name": "stdout",
     "output_type": "stream",
     "text": [
      "Accuracy: 0.5392670157068062\n",
      "Recall: [0.80232558 0.         0.         0.         0.        ]\n",
      "AUC: [0.74401993 0.5        0.5        0.5        0.5       ]\n"
     ]
    }
   ],
   "source": [
    "utils.save_model(model, str(os.getcwd() + \"/../data/interim/CatboostClassifier.pkl\"))"
   ]
  },
  {
   "cell_type": "markdown",
   "metadata": {},
   "source": [
    "infer"
   ]
  },
  {
   "cell_type": "code",
   "execution_count": 56,
   "metadata": {},
   "outputs": [
    {
     "data": {
      "text/plain": [
       "array([[ 0.6457473 ,  0.11076257, -0.34007743, ...,  1.        ,\n",
       "         1.        ,  0.        ],\n",
       "       [ 0.67460525,  0.37584984, -0.43943965, ...,  1.        ,\n",
       "         1.        ,  0.        ],\n",
       "       [ 0.47259924,  0.33205283,  0.8522693 , ...,  1.        ,\n",
       "         1.        ,  0.        ],\n",
       "       ...,\n",
       "       [ 2.9543874 ,  0.95042276, -0.37319818, ...,  1.        ,\n",
       "         1.        ,  0.        ],\n",
       "       [ 0.12630318, -0.00759964,  0.6866656 , ...,  1.        ,\n",
       "         1.        ,  0.        ],\n",
       "       [ 0.47259924, -0.08918037,  0.71978635, ...,  1.        ,\n",
       "         1.        ,  0.        ]], dtype=float32)"
      ]
     },
     "execution_count": 56,
     "metadata": {},
     "output_type": "execute_result"
    }
   ],
   "source": [
    "val_data   = pd.read_pickle(str(os.getcwd() + \"/../data/processed/val_data.pkl\"))\n",
    "\n",
    "\n",
    "val_data"
   ]
  },
  {
   "cell_type": "code",
   "execution_count": null,
   "metadata": {},
   "outputs": [],
   "source": []
  }
 ],
 "metadata": {
  "kernelspec": {
   "display_name": "Python 3.10.8 ('venv': venv)",
   "language": "python",
   "name": "python3"
  },
  "language_info": {
   "codemirror_mode": {
    "name": "ipython",
    "version": 3
   },
   "file_extension": ".py",
   "mimetype": "text/x-python",
   "name": "python",
   "nbconvert_exporter": "python",
   "pygments_lexer": "ipython3",
   "version": "3.10.8"
  },
  "orig_nbformat": 4,
  "vscode": {
   "interpreter": {
    "hash": "7c41ac46430c38179133767c9d111e07a4ee1063377571f3168b1ca5f16a24c9"
   }
  }
 },
 "nbformat": 4,
 "nbformat_minor": 2
}
